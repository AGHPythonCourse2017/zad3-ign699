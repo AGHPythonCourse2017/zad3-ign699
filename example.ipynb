{
 "cells": [
  {
   "cell_type": "code",
   "execution_count": 13,
   "metadata": {},
   "outputs": [
    {
     "name": "stdout",
     "output_type": "stream",
     "text": [
      "Collecting git+https://github.com/AGHPythonCourse2017/zad3-ign699.git\n",
      "  Cloning https://github.com/AGHPythonCourse2017/zad3-ign699.git to /tmp/pip-j362q1xk-build\n",
      "  Requirement already satisfied (use --upgrade to upgrade): zad3==0.1 from git+https://github.com/AGHPythonCourse2017/zad3-ign699.git in /home/jasiek/anaconda3/lib/python3.6/site-packages\n",
      "Requirement already satisfied: requests in /home/jasiek/anaconda3/lib/python3.6/site-packages (from zad3==0.1)\n",
      "Requirement already satisfied: bs4 in /home/jasiek/anaconda3/lib/python3.6/site-packages (from zad3==0.1)\n",
      "Requirement already satisfied: newspaper3k in /home/jasiek/anaconda3/lib/python3.6/site-packages (from zad3==0.1)\n",
      "Requirement already satisfied: beautifulsoup4 in /home/jasiek/anaconda3/lib/python3.6/site-packages (from bs4->zad3==0.1)\n",
      "Requirement already satisfied: feedfinder2>=0.0.4 in /home/jasiek/anaconda3/lib/python3.6/site-packages (from newspaper3k->zad3==0.1)\n",
      "Requirement already satisfied: nltk>=3.2.1 in /home/jasiek/anaconda3/lib/python3.6/site-packages (from newspaper3k->zad3==0.1)\n",
      "Requirement already satisfied: feedparser>=5.2.1 in /home/jasiek/anaconda3/lib/python3.6/site-packages (from newspaper3k->zad3==0.1)\n",
      "Requirement already satisfied: tldextract>=2.0.1 in /home/jasiek/anaconda3/lib/python3.6/site-packages (from newspaper3k->zad3==0.1)\n",
      "Requirement already satisfied: python-dateutil>=2.5.3 in /home/jasiek/anaconda3/lib/python3.6/site-packages (from newspaper3k->zad3==0.1)\n",
      "Requirement already satisfied: lxml>=3.6.0 in /home/jasiek/anaconda3/lib/python3.6/site-packages (from newspaper3k->zad3==0.1)\n",
      "Requirement already satisfied: Pillow>=3.3.0 in /home/jasiek/anaconda3/lib/python3.6/site-packages (from newspaper3k->zad3==0.1)\n",
      "Requirement already satisfied: jieba3k>=0.35.1 in /home/jasiek/anaconda3/lib/python3.6/site-packages (from newspaper3k->zad3==0.1)\n",
      "Requirement already satisfied: PyYAML>=3.11 in /home/jasiek/anaconda3/lib/python3.6/site-packages (from newspaper3k->zad3==0.1)\n",
      "Requirement already satisfied: cssselect>=0.9.2 in /home/jasiek/anaconda3/lib/python3.6/site-packages (from newspaper3k->zad3==0.1)\n",
      "Requirement already satisfied: six in /home/jasiek/anaconda3/lib/python3.6/site-packages (from feedfinder2>=0.0.4->newspaper3k->zad3==0.1)\n",
      "Requirement already satisfied: idna in /home/jasiek/anaconda3/lib/python3.6/site-packages (from tldextract>=2.0.1->newspaper3k->zad3==0.1)\n",
      "Requirement already satisfied: requests-file>=1.4 in /home/jasiek/anaconda3/lib/python3.6/site-packages (from tldextract>=2.0.1->newspaper3k->zad3==0.1)\n",
      "Requirement already satisfied: setuptools in /home/jasiek/anaconda3/lib/python3.6/site-packages/setuptools-27.2.0-py3.6.egg (from tldextract>=2.0.1->newspaper3k->zad3==0.1)\n",
      "Requirement already satisfied: olefile in /home/jasiek/anaconda3/lib/python3.6/site-packages (from Pillow>=3.3.0->newspaper3k->zad3==0.1)\n"
     ]
    }
   ],
   "source": [
    "!pip install git+https://github.com/AGHPythonCourse2017/zad3-ign699.git"
   ]
  },
  {
   "cell_type": "code",
   "execution_count": 14,
   "metadata": {},
   "outputs": [],
   "source": [
    "from zad3.main import checkart"
   ]
  },
  {
   "cell_type": "code",
   "execution_count": 15,
   "metadata": {},
   "outputs": [
    {
     "name": "stdout",
     "output_type": "stream",
     "text": [
      "First check the date if its older than one month you should get suspicious\n",
      "2017-06-05 00:00:00\n",
      "This site seens to be a credible source!\n",
      "Title might be a clickbait\n",
      "Here are links to other sites concerning the same issue\n",
      "https://www.theguardian.com/uk-news/2017/jun/04/foreign-nationals-victims-of-london-terror-attacks\n",
      "http://www.telegraph.co.uk/news/2017/06/04/victims-london-terror-attack/\n",
      "https://uk.ambafrance.org/\n",
      "https://www.bloomberg.com/news/articles/2017-06-04/the-latest-india-s-prime-minister-condemns-london-attacks\n",
      "https://www.thelocal.fr/20170523/macron-horrified-at-uk-attack\n"
     ]
    }
   ],
   "source": [
    "checkart(\"http://edition.cnn.com/2017/06/05/europe/london-bridge-attack-victims-wounded/index.html\")"
   ]
  },
  {
   "cell_type": "code",
   "execution_count": 16,
   "metadata": {},
   "outputs": [
    {
     "name": "stdout",
     "output_type": "stream",
     "text": [
      "First check the date if its older than one month you should get suspicious\n",
      "2017-06-01 00:00:00\n",
      "The site is or contains links to not credible sources!\n",
      "Title might be a clickbait\n",
      "Here are links to other sites concerning the same issue\n",
      "http://www.independent.co.uk/news/world/isis-iraq-chemical-weapons-nazi-experiments-human-guinea-pigs-a7747156.html\n",
      "https://www.rt.com/news/389147-isis-mosul-experiments-poison/\n",
      "http://boinnk.nl/date/2017/06/02/page/5/\n",
      "http://www.arewelivinginthelastdays.com/news/default.html\n",
      "https://tur.p24.pl/index.php%3Fm%3Darticles%26ms%3Dview%26article_id%3D8\n",
      "http://conspiracy-cafe.blogspot.ca/2016/07/russia-concentrating-its-forces-at.html%23!/2016/07/russia-concentrating-its-forces-at.html\n",
      "http://barrowbycakehole.co.uk/%3Fe%3D2\n",
      "http://www.proliberis.cz/blog/17-11-vuka-nen\n",
      "http://www.jpost.com/jpgooglesitemap/SiteMap11.xml\n"
     ]
    }
   ],
   "source": [
    "checkart(\"http://www.newstarget.com/2017-06-01-isis-borrows-tactic-from-the-vaccine-industry-by-testing-chemical-weapons-on-human-guinea-pigs.html\")"
   ]
  },
  {
   "cell_type": "code",
   "execution_count": 17,
   "metadata": {
    "scrolled": true
   },
   "outputs": [
    {
     "name": "stdout",
     "output_type": "stream",
     "text": [
      "First check the date if its older than one month you should get suspicious\n",
      "2017-03-07 13:26:09+00:00\n",
      "This site seens to be a credible source!\n",
      "Title might be a clickbait\n",
      "Here are links to other sites concerning the same issue\n",
      "http://www.raceandhistory.com/cgi-bin/forum/webbbs_config.pl%3Fmd%3Dread%3Bid%3D1638\n",
      "http://www.politicalforum.com/index.php%3Fthreads/the-left%25C2%2592s-highly-edited-history-of-slavery.378842/page-2\n",
      "http://www.martincamp.org/uploads/9/5/7/4/9574758/october2016.pdf\n",
      "https://an-uncommon-scold.newsvine.com/_news/2016/03/22/35294666-the-slaves-that-time-forgot\n",
      "http://www.topix.com/forum/city/chicago-ridge-il/TC6SGHF806TJRRBUB/p5302%3Fprint%3D1\n",
      "http://ireport.cnn.com/docs/DOC-299434\n",
      "http://www.beingfactual.com/first-slave-owner-african-american/\n",
      "http://mojaveunderground.com/wp-binarys/slave%2Btrade%2Bwiki-17431.html\n",
      "http://www.baylorfans.com/forums/showthread.php%3Ft%3D276254\n"
     ]
    }
   ],
   "source": [
    "checkart(\"http://www.thenewportbuzz.com/the-irish-slave-trade-the-slaves-that-time-forgot/7191\")"
   ]
  },
  {
   "cell_type": "code",
   "execution_count": null,
   "metadata": {
    "collapsed": true
   },
   "outputs": [],
   "source": []
  }
 ],
 "metadata": {
  "kernelspec": {
   "display_name": "Python 3",
   "language": "python",
   "name": "python3"
  },
  "language_info": {
   "codemirror_mode": {
    "name": "ipython",
    "version": 3
   },
   "file_extension": ".py",
   "mimetype": "text/x-python",
   "name": "python",
   "nbconvert_exporter": "python",
   "pygments_lexer": "ipython3",
   "version": "3.6.1"
  }
 },
 "nbformat": 4,
 "nbformat_minor": 2
}
